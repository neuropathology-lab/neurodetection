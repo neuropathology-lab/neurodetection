{
 "cells": [
  {
   "cell_type": "code",
   "execution_count": 1,
   "id": "a971eb03-3d56-4f38-ac46-ae6f4359bc16",
   "metadata": {
    "tags": []
   },
   "outputs": [],
   "source": [
    "import os\n",
    "import glob\n",
    "import pandas as pd\n",
    "from shutil import copyfile\n",
    "import pathlib\n",
    "\n",
    "from skimage import io\n",
    "import matplotlib.pyplot as plt\n",
    "import numpy as np\n"
   ]
  },
  {
   "cell_type": "code",
   "execution_count": 2,
   "id": "09103436-ecd8-4ec6-b54b-3799aba9bf28",
   "metadata": {
    "tags": []
   },
   "outputs": [
    {
     "data": {
      "text/plain": [
       "'C:\\\\Users\\\\u0167473\\\\OneDrive - KU Leuven\\\\Projects\\\\Project_NeuronDetection_KlaraGower'"
      ]
     },
     "execution_count": 2,
     "metadata": {},
     "output_type": "execute_result"
    }
   ],
   "source": [
    "# Find the current working directory\n",
    "os.getcwd()"
   ]
  },
  {
   "cell_type": "code",
   "execution_count": 3,
   "id": "1f04a5ee-60f4-40a2-b80b-0c778cb4a302",
   "metadata": {
    "tags": []
   },
   "outputs": [
    {
     "data": {
      "text/plain": [
       "'C:\\\\Users\\\\u0167473\\\\OneDrive - KU Leuven\\\\Projects\\\\Project_NeuronDetection_KlaraGower'"
      ]
     },
     "execution_count": 3,
     "metadata": {},
     "output_type": "execute_result"
    }
   ],
   "source": [
    "#change current wd\n",
    "os.chdir('C:\\\\Users\\\\u0167473\\\\OneDrive - KU Leuven\\\\Projects\\\\Project_NeuronDetection_KlaraGower')\n",
    "os.getcwd()"
   ]
  },
  {
   "cell_type": "code",
   "execution_count": 4,
   "id": "4901c951-ffb2-40a1-892c-375569c913f3",
   "metadata": {
    "tags": []
   },
   "outputs": [],
   "source": [
    "imgfiles = []\n",
    "for file in glob.glob(\"Data\\\\objects\\\\*.tif\"):\n",
    "    imgfiles.append(file)\n",
    "    \n",
    "imgfiles_basenames = [os.path.basename(x) for x in glob.glob(\"Data\\\\objects\\\\*.tif\")]\n"
   ]
  },
  {
   "cell_type": "code",
   "execution_count": 5,
   "id": "aae37d54-3104-46e3-9d75-546f6b13c8ce",
   "metadata": {
    "tags": []
   },
   "outputs": [
    {
     "data": {
      "text/html": [
       "<div>\n",
       "<style scoped>\n",
       "    .dataframe tbody tr th:only-of-type {\n",
       "        vertical-align: middle;\n",
       "    }\n",
       "\n",
       "    .dataframe tbody tr th {\n",
       "        vertical-align: top;\n",
       "    }\n",
       "\n",
       "    .dataframe thead th {\n",
       "        text-align: right;\n",
       "    }\n",
       "</style>\n",
       "<table border=\"1\" class=\"dataframe\">\n",
       "  <thead>\n",
       "    <tr style=\"text-align: right;\">\n",
       "      <th></th>\n",
       "      <th>fullnames</th>\n",
       "    </tr>\n",
       "  </thead>\n",
       "  <tbody>\n",
       "    <tr>\n",
       "      <th>0</th>\n",
       "      <td>Data\\objects\\A21893_ah_1_cell_row1010col149lab...</td>\n",
       "    </tr>\n",
       "    <tr>\n",
       "      <th>1</th>\n",
       "      <td>Data\\objects\\A21893_ah_1_cell_row1027col2066la...</td>\n",
       "    </tr>\n",
       "    <tr>\n",
       "      <th>2</th>\n",
       "      <td>Data\\objects\\A21893_ah_1_cell_row1029col315lab...</td>\n",
       "    </tr>\n",
       "    <tr>\n",
       "      <th>3</th>\n",
       "      <td>Data\\objects\\A21893_ah_1_cell_row1036col974lab...</td>\n",
       "    </tr>\n",
       "    <tr>\n",
       "      <th>4</th>\n",
       "      <td>Data\\objects\\A21893_ah_1_cell_row104col559labe...</td>\n",
       "    </tr>\n",
       "  </tbody>\n",
       "</table>\n",
       "</div>"
      ],
      "text/plain": [
       "                                           fullnames\n",
       "0  Data\\objects\\A21893_ah_1_cell_row1010col149lab...\n",
       "1  Data\\objects\\A21893_ah_1_cell_row1027col2066la...\n",
       "2  Data\\objects\\A21893_ah_1_cell_row1029col315lab...\n",
       "3  Data\\objects\\A21893_ah_1_cell_row1036col974lab...\n",
       "4  Data\\objects\\A21893_ah_1_cell_row104col559labe..."
      ]
     },
     "execution_count": 5,
     "metadata": {},
     "output_type": "execute_result"
    }
   ],
   "source": [
    "# dictionary of lists \n",
    "dict = {'fullnames': imgfiles} \n",
    "imgfiles = pd.DataFrame(dict)\n",
    "imgfiles.head()"
   ]
  },
  {
   "cell_type": "code",
   "execution_count": 6,
   "id": "b20a3e81-d54c-44dc-b1ea-6ab89883457a",
   "metadata": {
    "tags": []
   },
   "outputs": [
    {
     "data": {
      "text/html": [
       "<div>\n",
       "<style scoped>\n",
       "    .dataframe tbody tr th:only-of-type {\n",
       "        vertical-align: middle;\n",
       "    }\n",
       "\n",
       "    .dataframe tbody tr th {\n",
       "        vertical-align: top;\n",
       "    }\n",
       "\n",
       "    .dataframe thead th {\n",
       "        text-align: right;\n",
       "    }\n",
       "</style>\n",
       "<table border=\"1\" class=\"dataframe\">\n",
       "  <thead>\n",
       "    <tr style=\"text-align: right;\">\n",
       "      <th></th>\n",
       "      <th>fullnames</th>\n",
       "    </tr>\n",
       "  </thead>\n",
       "  <tbody>\n",
       "    <tr>\n",
       "      <th>0</th>\n",
       "      <td>Data\\objects\\A21893_ah_1_cell_row1010col149label1120_labelNegative.tif</td>\n",
       "    </tr>\n",
       "  </tbody>\n",
       "</table>\n",
       "</div>"
      ],
      "text/plain": [
       "                                                                fullnames\n",
       "0  Data\\objects\\A21893_ah_1_cell_row1010col149label1120_labelNegative.tif"
      ]
     },
     "metadata": {},
     "output_type": "display_data"
    }
   ],
   "source": [
    "with pd.option_context('display.max_colwidth', None):\n",
    "  display(imgfiles.head(1))"
   ]
  },
  {
   "cell_type": "code",
   "execution_count": 7,
   "id": "f8aae57e-e8da-4428-8650-427478b348fa",
   "metadata": {},
   "outputs": [
    {
     "data": {
      "text/plain": [
       "fullnames\n",
       "Negative       87962\n",
       "Normal         27323\n",
       "GVD             2586\n",
       "NCI_NFT          653\n",
       "Unsure           433\n",
       "non_neurons      425\n",
       "Not_neuron       248\n",
       "NFT_NCI          218\n",
       "nan              170\n",
       "Threads           78\n",
       "Ambiguous         60\n",
       "incorrect          1\n",
       "Name: count, dtype: int64"
      ]
     },
     "execution_count": 7,
     "metadata": {},
     "output_type": "execute_result"
    }
   ],
   "source": [
    "imgfiles_labels = imgfiles['fullnames'].apply(lambda st: st[st.find(\"_label\")+1:st.find(\".tif\")])\n",
    "imgfiles_labels = imgfiles_labels.str.replace(\"label\",\"\",regex=True)\n",
    "imgfiles_labels.value_counts()"
   ]
  },
  {
   "cell_type": "code",
   "execution_count": 8,
   "id": "f983cb12-1712-41f2-afc8-744481f9d736",
   "metadata": {
    "tags": []
   },
   "outputs": [
    {
     "data": {
      "text/plain": [
       "array(['Negative', 'GVD', 'Normal', 'NCI_NFT', 'Unsure', 'non_neurons',\n",
       "       'nan', 'Threads', 'incorrect', 'Ambiguous', 'NFT_NCI',\n",
       "       'Not_neuron'], dtype=object)"
      ]
     },
     "execution_count": 8,
     "metadata": {},
     "output_type": "execute_result"
    }
   ],
   "source": [
    "label_classes = pd.unique(imgfiles_labels)\n",
    "label_classes"
   ]
  },
  {
   "cell_type": "code",
   "execution_count": 9,
   "id": "fdf8e7b6-dccc-44e1-96aa-6a857c17a544",
   "metadata": {},
   "outputs": [],
   "source": [
    "imgfiles['labels'] = imgfiles_labels\n",
    "vals_to_replace = {'Negative':'Negative','non_neurons':'Negative','Not_neuron':'Negative','Threads':'Negative',\n",
    "                  'GVD':'Positive','Normal':'Positive','NCI_NFT':'Positive','Unsure':'Positive',\n",
    "                  'Ambiguous':'Positive','NFT_NCI':'Positive'}\n",
    "imgfiles['labels_for_classifier'] = imgfiles['labels'].map(vals_to_replace).fillna(imgfiles['labels'])\n",
    "                                                                       \n",
    "imgfiles['basenames'] = imgfiles_basenames                                                                         "
   ]
  },
  {
   "cell_type": "code",
   "execution_count": 10,
   "id": "7dd47af6-207a-4de7-8ad9-db073f4b1f84",
   "metadata": {},
   "outputs": [
    {
     "data": {
      "text/plain": [
       "labels_for_classifier\n",
       "Negative     88713\n",
       "Positive     31273\n",
       "nan            170\n",
       "incorrect        1\n",
       "Name: count, dtype: int64"
      ]
     },
     "execution_count": 10,
     "metadata": {},
     "output_type": "execute_result"
    }
   ],
   "source": [
    "imgfiles['labels_for_classifier'].value_counts()"
   ]
  },
  {
   "cell_type": "code",
   "execution_count": 11,
   "id": "82aa502e-388a-4b50-baa2-23622afe69a7",
   "metadata": {
    "tags": []
   },
   "outputs": [],
   "source": [
    "imgfiles.to_csv(\"Data\\\\objects_annotations.csv\",index=False)"
   ]
  },
  {
   "cell_type": "code",
   "execution_count": 12,
   "id": "ecdb157a-4d10-477a-a091-a94486c54e11",
   "metadata": {
    "tags": []
   },
   "outputs": [
    {
     "data": {
      "text/plain": [
       "labels_for_classifier\n",
       "Negative    88713\n",
       "Positive    31273\n",
       "Name: count, dtype: int64"
      ]
     },
     "execution_count": 12,
     "metadata": {},
     "output_type": "execute_result"
    }
   ],
   "source": [
    "class_to_remove = ['nan', 'incorrect']\n",
    "imgfiles_subset = imgfiles[ ~imgfiles['labels_for_classifier'].isin(class_to_remove)]\n",
    "imgfiles_subset['labels_for_classifier'].value_counts()"
   ]
  },
  {
   "cell_type": "code",
   "execution_count": 13,
   "id": "36a7491c-331a-46d1-808a-bcebca2cb0a4",
   "metadata": {
    "tags": []
   },
   "outputs": [],
   "source": [
    "test=imgfiles_subset.sample(frac=0.2,random_state=1234)\n",
    "train=imgfiles_subset.drop(test.index)"
   ]
  },
  {
   "cell_type": "code",
   "execution_count": 14,
   "id": "a93e5df8-8829-4586-a0c8-b7c7b106a966",
   "metadata": {
    "tags": []
   },
   "outputs": [
    {
     "data": {
      "text/plain": [
       "labels_for_classifier\n",
       "Negative    70963\n",
       "Positive    25026\n",
       "Name: count, dtype: int64"
      ]
     },
     "execution_count": 14,
     "metadata": {},
     "output_type": "execute_result"
    }
   ],
   "source": [
    "train['labels_for_classifier'].value_counts()"
   ]
  },
  {
   "cell_type": "code",
   "execution_count": 15,
   "id": "1e357494-ab86-4b93-ae66-76de7c6cb5c0",
   "metadata": {
    "tags": []
   },
   "outputs": [
    {
     "data": {
      "text/plain": [
       "labels_for_classifier\n",
       "Negative    17750\n",
       "Positive     6247\n",
       "Name: count, dtype: int64"
      ]
     },
     "execution_count": 15,
     "metadata": {},
     "output_type": "execute_result"
    }
   ],
   "source": [
    "test['labels_for_classifier'].value_counts()"
   ]
  },
  {
   "cell_type": "code",
   "execution_count": 16,
   "id": "28ff7f5e-651b-4022-be8d-aeb1bf2dcb54",
   "metadata": {
    "tags": []
   },
   "outputs": [
    {
     "data": {
      "text/html": [
       "<div>\n",
       "<style scoped>\n",
       "    .dataframe tbody tr th:only-of-type {\n",
       "        vertical-align: middle;\n",
       "    }\n",
       "\n",
       "    .dataframe tbody tr th {\n",
       "        vertical-align: top;\n",
       "    }\n",
       "\n",
       "    .dataframe thead th {\n",
       "        text-align: right;\n",
       "    }\n",
       "</style>\n",
       "<table border=\"1\" class=\"dataframe\">\n",
       "  <thead>\n",
       "    <tr style=\"text-align: right;\">\n",
       "      <th></th>\n",
       "      <th>fullnames</th>\n",
       "      <th>labels</th>\n",
       "      <th>labels_for_classifier</th>\n",
       "      <th>basenames</th>\n",
       "    </tr>\n",
       "  </thead>\n",
       "  <tbody>\n",
       "    <tr>\n",
       "      <th>0</th>\n",
       "      <td>Data\\objects\\A21893_ah_1_cell_row1010col149lab...</td>\n",
       "      <td>Negative</td>\n",
       "      <td>Negative</td>\n",
       "      <td>A21893_ah_1_cell_row1010col149label1120_labelN...</td>\n",
       "    </tr>\n",
       "    <tr>\n",
       "      <th>1</th>\n",
       "      <td>Data\\objects\\A21893_ah_1_cell_row1027col2066la...</td>\n",
       "      <td>GVD</td>\n",
       "      <td>Positive</td>\n",
       "      <td>A21893_ah_1_cell_row1027col2066label1132_labelGVD</td>\n",
       "    </tr>\n",
       "    <tr>\n",
       "      <th>2</th>\n",
       "      <td>Data\\objects\\A21893_ah_1_cell_row1029col315lab...</td>\n",
       "      <td>Negative</td>\n",
       "      <td>Negative</td>\n",
       "      <td>A21893_ah_1_cell_row1029col315label1130_labelN...</td>\n",
       "    </tr>\n",
       "    <tr>\n",
       "      <th>3</th>\n",
       "      <td>Data\\objects\\A21893_ah_1_cell_row1036col974lab...</td>\n",
       "      <td>GVD</td>\n",
       "      <td>Positive</td>\n",
       "      <td>A21893_ah_1_cell_row1036col974label991_labelGVD</td>\n",
       "    </tr>\n",
       "    <tr>\n",
       "      <th>4</th>\n",
       "      <td>Data\\objects\\A21893_ah_1_cell_row104col559labe...</td>\n",
       "      <td>GVD</td>\n",
       "      <td>Positive</td>\n",
       "      <td>A21893_ah_1_cell_row104col559label34_labelGVD</td>\n",
       "    </tr>\n",
       "    <tr>\n",
       "      <th>...</th>\n",
       "      <td>...</td>\n",
       "      <td>...</td>\n",
       "      <td>...</td>\n",
       "      <td>...</td>\n",
       "    </tr>\n",
       "    <tr>\n",
       "      <th>120152</th>\n",
       "      <td>Data\\objects\\UL9479_14_ah_3_cell_row953col1521...</td>\n",
       "      <td>Negative</td>\n",
       "      <td>Negative</td>\n",
       "      <td>UL9479_14_ah_3_cell_row953col1521label2384_lab...</td>\n",
       "    </tr>\n",
       "    <tr>\n",
       "      <th>120153</th>\n",
       "      <td>Data\\objects\\UL9479_14_ah_3_cell_row956col2040...</td>\n",
       "      <td>Negative</td>\n",
       "      <td>Negative</td>\n",
       "      <td>UL9479_14_ah_3_cell_row956col2040label2392_lab...</td>\n",
       "    </tr>\n",
       "    <tr>\n",
       "      <th>120154</th>\n",
       "      <td>Data\\objects\\UL9479_14_ah_3_cell_row958col1636...</td>\n",
       "      <td>Negative</td>\n",
       "      <td>Negative</td>\n",
       "      <td>UL9479_14_ah_3_cell_row958col1636label2397_lab...</td>\n",
       "    </tr>\n",
       "    <tr>\n",
       "      <th>120155</th>\n",
       "      <td>Data\\objects\\UL9479_14_ah_3_cell_row975col945l...</td>\n",
       "      <td>Normal</td>\n",
       "      <td>Positive</td>\n",
       "      <td>UL9479_14_ah_3_cell_row975col945label2319_labe...</td>\n",
       "    </tr>\n",
       "    <tr>\n",
       "      <th>120156</th>\n",
       "      <td>Data\\objects\\UL9479_14_ah_3_cell_row992col1025...</td>\n",
       "      <td>Negative</td>\n",
       "      <td>Negative</td>\n",
       "      <td>UL9479_14_ah_3_cell_row992col1025label2463_lab...</td>\n",
       "    </tr>\n",
       "  </tbody>\n",
       "</table>\n",
       "<p>95989 rows × 4 columns</p>\n",
       "</div>"
      ],
      "text/plain": [
       "                                                fullnames    labels  \\\n",
       "0       Data\\objects\\A21893_ah_1_cell_row1010col149lab...  Negative   \n",
       "1       Data\\objects\\A21893_ah_1_cell_row1027col2066la...       GVD   \n",
       "2       Data\\objects\\A21893_ah_1_cell_row1029col315lab...  Negative   \n",
       "3       Data\\objects\\A21893_ah_1_cell_row1036col974lab...       GVD   \n",
       "4       Data\\objects\\A21893_ah_1_cell_row104col559labe...       GVD   \n",
       "...                                                   ...       ...   \n",
       "120152  Data\\objects\\UL9479_14_ah_3_cell_row953col1521...  Negative   \n",
       "120153  Data\\objects\\UL9479_14_ah_3_cell_row956col2040...  Negative   \n",
       "120154  Data\\objects\\UL9479_14_ah_3_cell_row958col1636...  Negative   \n",
       "120155  Data\\objects\\UL9479_14_ah_3_cell_row975col945l...    Normal   \n",
       "120156  Data\\objects\\UL9479_14_ah_3_cell_row992col1025...  Negative   \n",
       "\n",
       "       labels_for_classifier  \\\n",
       "0                   Negative   \n",
       "1                   Positive   \n",
       "2                   Negative   \n",
       "3                   Positive   \n",
       "4                   Positive   \n",
       "...                      ...   \n",
       "120152              Negative   \n",
       "120153              Negative   \n",
       "120154              Negative   \n",
       "120155              Positive   \n",
       "120156              Negative   \n",
       "\n",
       "                                                basenames  \n",
       "0       A21893_ah_1_cell_row1010col149label1120_labelN...  \n",
       "1       A21893_ah_1_cell_row1027col2066label1132_labelGVD  \n",
       "2       A21893_ah_1_cell_row1029col315label1130_labelN...  \n",
       "3         A21893_ah_1_cell_row1036col974label991_labelGVD  \n",
       "4           A21893_ah_1_cell_row104col559label34_labelGVD  \n",
       "...                                                   ...  \n",
       "120152  UL9479_14_ah_3_cell_row953col1521label2384_lab...  \n",
       "120153  UL9479_14_ah_3_cell_row956col2040label2392_lab...  \n",
       "120154  UL9479_14_ah_3_cell_row958col1636label2397_lab...  \n",
       "120155  UL9479_14_ah_3_cell_row975col945label2319_labe...  \n",
       "120156  UL9479_14_ah_3_cell_row992col1025label2463_lab...  \n",
       "\n",
       "[95989 rows x 4 columns]"
      ]
     },
     "execution_count": 16,
     "metadata": {},
     "output_type": "execute_result"
    }
   ],
   "source": [
    "pathlib.Path(\"classifier_v2\\\\data\\\\train\").mkdir(parents=True, exist_ok=True)\n",
    "src_directory = \"Data\\\\objects\"\n",
    "dest_directory = \"classifier_v2\\\\data\\\\train\"\n",
    "\n",
    "train['basenames'] = train['basenames'].str.replace(\".tif\",\"\",regex=True)\n",
    "\n"
   ]
  },
  {
   "cell_type": "code",
   "execution_count": 19,
   "id": "eb49ff14-51d7-4aeb-8468-fcb04f0564bf",
   "metadata": {
    "tags": []
   },
   "outputs": [],
   "source": [
    "for fileName in train['basenames']:\n",
    "    src_file = src_directory + \"\\\\\" + fileName + \".tif\"\n",
    "    image_as_np_array = io.imread(src_file)\n",
    "    dest_file = dest_directory + \"\\\\\" + fileName + \".png\"\n",
    "    plt.imsave(dest_file, image_as_np_array)"
   ]
  },
  {
   "cell_type": "code",
   "execution_count": 20,
   "id": "4f104cc0-a21f-4c5d-bba4-6ccd5cff5835",
   "metadata": {
    "tags": []
   },
   "outputs": [],
   "source": [
    "pathlib.Path(\"classifier_v2\\\\data\\\\test\").mkdir(parents=True, exist_ok=True)\n",
    "src_directory = \"Data\\\\objects\"\n",
    "dest_directory = \"classifier_v2\\\\data\\\\test\"\n",
    "\n",
    "test['basenames'] = test['basenames'].str.replace(\".tif\",\"\",regex=True)\n",
    "\n",
    "for fileName in test['basenames']:\n",
    "    src_file = src_directory + \"\\\\\" + fileName + \".tif\"\n",
    "    image_as_np_array = io.imread(src_file)\n",
    "    dest_file = dest_directory + \"\\\\\" + fileName + \".png\"\n",
    "    plt.imsave(dest_file, image_as_np_array)\n"
   ]
  },
  {
   "cell_type": "code",
   "execution_count": 64,
   "id": "6f82f081-d960-4896-82e0-1a7108b7d04b",
   "metadata": {
    "tags": []
   },
   "outputs": [],
   "source": [
    "#labels = pd.unique(imgfiles['labels_for_classifier'])\n",
    "\n",
    "#for label in labels:\n",
    "#    try:\n",
    "#        os.mkdir(os.path.join(\"Data\\\\images_for_classifier_v1\", label))\n",
    "#        src_directory = \"Data\\\\objects\\\\objects\"\n",
    "#        dest_directory = os.path.join(\"Data\\\\images_for_classifier_v1\", label)\n",
    "#        temp = imgfiles[imgfiles['labels_for_classifier'] == label]\n",
    "#        for fileName in temp['basenames']: \n",
    "#            src_file = src_directory + \"\\\\\" + fileName \n",
    "#            dest_file = dest_directory + \"\\\\\" + fileName \n",
    "#            copyfile(src_file, dest_file)\n",
    "#    except FileExistsError:\n",
    "#        pass"
   ]
  },
  {
   "cell_type": "code",
   "execution_count": 44,
   "id": "00ea9f3c-cb58-43b3-8408-a8d3d9888c38",
   "metadata": {
    "tags": []
   },
   "outputs": [
    {
     "data": {
      "text/plain": [
       "1         Data\\objects\\objects\\A21893_ah_1_cell_row1027c...\n",
       "3         Data\\objects\\objects\\A21893_ah_1_cell_row1036c...\n",
       "4         Data\\objects\\objects\\A21893_ah_1_cell_row104co...\n",
       "6         Data\\objects\\objects\\A21893_ah_1_cell_row106co...\n",
       "10        Data\\objects\\objects\\A21893_ah_1_cell_row1128c...\n",
       "                                ...                        \n",
       "120122    Data\\objects\\objects\\UL9479_14_ah_3_cell_row63...\n",
       "120137    Data\\objects\\objects\\UL9479_14_ah_3_cell_row81...\n",
       "120143    Data\\objects\\objects\\UL9479_14_ah_3_cell_row84...\n",
       "120145    Data\\objects\\objects\\UL9479_14_ah_3_cell_row87...\n",
       "120155    Data\\objects\\objects\\UL9479_14_ah_3_cell_row97...\n",
       "Name: fullnames, Length: 31273, dtype: object"
      ]
     },
     "execution_count": 44,
     "metadata": {},
     "output_type": "execute_result"
    }
   ],
   "source": [
    "#labels = pd.unique(imgfiles['labels_for_classifier'])\n",
    "#type(imgfiles['labels_for_classifier'])\n",
    "#temp = imgfiles[imgfiles['labels_for_classifier'] == labels[1]]\n",
    "\n",
    "#df[df['Frequency'].isin([0.8,1.6])] "
   ]
  },
  {
   "cell_type": "code",
   "execution_count": 62,
   "id": "29e483d7-b369-4804-8205-79a891eca9ef",
   "metadata": {
    "tags": []
   },
   "outputs": [
    {
     "data": {
      "text/html": [
       "<div>\n",
       "<style scoped>\n",
       "    .dataframe tbody tr th:only-of-type {\n",
       "        vertical-align: middle;\n",
       "    }\n",
       "\n",
       "    .dataframe tbody tr th {\n",
       "        vertical-align: top;\n",
       "    }\n",
       "\n",
       "    .dataframe thead th {\n",
       "        text-align: right;\n",
       "    }\n",
       "</style>\n",
       "<table border=\"1\" class=\"dataframe\">\n",
       "  <thead>\n",
       "    <tr style=\"text-align: right;\">\n",
       "      <th></th>\n",
       "      <th>fullnames</th>\n",
       "      <th>labels</th>\n",
       "      <th>labels_for_classifier</th>\n",
       "      <th>basenames</th>\n",
       "    </tr>\n",
       "  </thead>\n",
       "  <tbody>\n",
       "    <tr>\n",
       "      <th>0</th>\n",
       "      <td>Data\\objects\\objects\\A21893_ah_1_cell_row1010col149label1120_labelNegative.tif</td>\n",
       "      <td>Negative</td>\n",
       "      <td>Negative</td>\n",
       "      <td>A21893_ah_1_cell_row1010col149label1120_labelNegative.tif</td>\n",
       "    </tr>\n",
       "  </tbody>\n",
       "</table>\n",
       "</div>"
      ],
      "text/plain": [
       "                                                                        fullnames  \\\n",
       "0  Data\\objects\\objects\\A21893_ah_1_cell_row1010col149label1120_labelNegative.tif   \n",
       "\n",
       "     labels labels_for_classifier  \\\n",
       "0  Negative              Negative   \n",
       "\n",
       "                                                   basenames  \n",
       "0  A21893_ah_1_cell_row1010col149label1120_labelNegative.tif  "
      ]
     },
     "metadata": {},
     "output_type": "display_data"
    }
   ],
   "source": [
    "#with pd.option_context('display.max_colwidth', None):\n",
    "  #display(imgfiles.head(1))"
   ]
  },
  {
   "cell_type": "code",
   "execution_count": 18,
   "id": "cf08bdc4-3035-4e6f-a8c4-96f7dfa012a8",
   "metadata": {},
   "outputs": [
    {
     "data": {
      "text/html": [
       "<div>\n",
       "<style scoped>\n",
       "    .dataframe tbody tr th:only-of-type {\n",
       "        vertical-align: middle;\n",
       "    }\n",
       "\n",
       "    .dataframe tbody tr th {\n",
       "        vertical-align: top;\n",
       "    }\n",
       "\n",
       "    .dataframe thead th {\n",
       "        text-align: right;\n",
       "    }\n",
       "</style>\n",
       "<table border=\"1\" class=\"dataframe\">\n",
       "  <thead>\n",
       "    <tr style=\"text-align: right;\">\n",
       "      <th></th>\n",
       "      <th>fullnames</th>\n",
       "      <th>labels</th>\n",
       "      <th>labels_for_classifier</th>\n",
       "      <th>basenames</th>\n",
       "    </tr>\n",
       "  </thead>\n",
       "  <tbody>\n",
       "    <tr>\n",
       "      <th>0</th>\n",
       "      <td>Data\\objects\\A21893_ah_1_cell_row1010col149label1120_labelNegative.tif</td>\n",
       "      <td>Negative</td>\n",
       "      <td>Negative</td>\n",
       "      <td>A21893_ah_1_cell_row1010col149label1120_labelNegative</td>\n",
       "    </tr>\n",
       "  </tbody>\n",
       "</table>\n",
       "</div>"
      ],
      "text/plain": [
       "                                                                fullnames  \\\n",
       "0  Data\\objects\\A21893_ah_1_cell_row1010col149label1120_labelNegative.tif   \n",
       "\n",
       "     labels labels_for_classifier  \\\n",
       "0  Negative              Negative   \n",
       "\n",
       "                                               basenames  \n",
       "0  A21893_ah_1_cell_row1010col149label1120_labelNegative  "
      ]
     },
     "metadata": {},
     "output_type": "display_data"
    }
   ],
   "source": [
    "#with pd.option_context('display.max_colwidth', None):\n",
    " # display(train.head(1))\n"
   ]
  },
  {
   "cell_type": "code",
   "execution_count": null,
   "id": "d475c09a-f930-4208-b6e4-eb24cf1f8743",
   "metadata": {},
   "outputs": [],
   "source": []
  }
 ],
 "metadata": {
  "kernelspec": {
   "display_name": "Python [conda env:NeuronDetector]",
   "language": "python",
   "name": "conda-env-NeuronDetector-py"
  },
  "language_info": {
   "codemirror_mode": {
    "name": "ipython",
    "version": 3
   },
   "file_extension": ".py",
   "mimetype": "text/x-python",
   "name": "python",
   "nbconvert_exporter": "python",
   "pygments_lexer": "ipython3",
   "version": "3.11.9"
  },
  "toc-autonumbering": true,
  "toc-showmarkdowntxt": true,
  "toc-showtags": true
 },
 "nbformat": 4,
 "nbformat_minor": 5
}
